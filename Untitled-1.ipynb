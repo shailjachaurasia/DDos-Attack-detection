{
 "cells": [
  {
   "cell_type": "code",
   "execution_count": 25,
   "metadata": {},
   "outputs": [
    {
     "name": "stdout",
     "output_type": "stream",
     "text": [
      "Requirement already satisfied: numpy in c:\\users\\shailja\\appdata\\local\\programs\\python\\python310\\lib\\site-packages (1.22.4)\n",
      "Note: you may need to restart the kernel to use updated packages.\n"
     ]
    }
   ],
   "source": [
    "pip install numpy"
   ]
  },
  {
   "cell_type": "code",
   "execution_count": 26,
   "metadata": {},
   "outputs": [
    {
     "name": "stdout",
     "output_type": "stream",
     "text": [
      "Requirement already satisfied: pandas in c:\\users\\shailja\\appdata\\local\\programs\\python\\python310\\lib\\site-packages (1.4.2)\n",
      "Requirement already satisfied: python-dateutil>=2.8.1 in c:\\users\\shailja\\appdata\\local\\programs\\python\\python310\\lib\\site-packages (from pandas) (2.8.2)\n",
      "Requirement already satisfied: pytz>=2020.1 in c:\\users\\shailja\\appdata\\local\\programs\\python\\python310\\lib\\site-packages (from pandas) (2022.1)\n",
      "Requirement already satisfied: numpy>=1.21.0 in c:\\users\\shailja\\appdata\\local\\programs\\python\\python310\\lib\\site-packages (from pandas) (1.22.4)\n",
      "Requirement already satisfied: six>=1.5 in c:\\users\\shailja\\appdata\\local\\programs\\python\\python310\\lib\\site-packages (from python-dateutil>=2.8.1->pandas) (1.16.0)\n"
     ]
    }
   ],
   "source": [
    "!pip install pandas"
   ]
  },
  {
   "cell_type": "code",
   "execution_count": 27,
   "metadata": {},
   "outputs": [],
   "source": [
    "import pandas as pd\n",
    "import numpy as np\n",
    "from sklearn.utils import resample\n",
    "from sklearn import preprocessing"
   ]
  },
  {
   "cell_type": "code",
   "execution_count": 28,
   "metadata": {},
   "outputs": [],
   "source": [
    "mult = 5\n",
    "\n",
    "def load_file(path):\n",
    "    data = pd.read_csv(path, sep=',')\n",
    "\n",
    "    is_benign = data[' Label']=='BENIGN'\n",
    "    flows_ok = data[is_benign]\n",
    "    flows_ddos_full = data[~is_benign]\n",
    "    \n",
    "    sizeDownSample = len(flows_ok)*mult \n",
    "    \n",
    "    # downsample majority\n",
    "    if (len(flows_ok)*mult) < (len(flows_ddos_full)): \n",
    "        flows_ddos_reduced = resample(flows_ddos_full,\n",
    "                                         replace = False, # sample without replacement\n",
    "                                         n_samples = sizeDownSample, # match minority n\n",
    "                                         random_state = 27) # reproducible results\n",
    "    else:\n",
    "        flows_ddos_reduced = flows_ddos_full\n",
    "    \n",
    "    return flows_ok, flows_ddos_reduced\n",
    "\n",
    " \n",
    "def load_huge_file(path):\n",
    "    df_chunk = pd.read_csv(path, chunksize=500000)\n",
    "    \n",
    "    chunk_list_ok = []  # append each chunk df here \n",
    "    chunk_list_ddos = [] \n",
    "\n",
    "    # Each chunk is in df format\n",
    "    for chunk in df_chunk:  \n",
    "        # perform data filtering \n",
    "        is_benign = chunk[' Label']=='BENIGN'\n",
    "        flows_ok = chunk[is_benign]\n",
    "        flows_ddos_full = chunk[~is_benign]\n",
    "        \n",
    "        if (len(flows_ok)*mult) < (len(flows_ddos_full)): \n",
    "            sizeDownSample = len(flows_ok)*mult \n",
    "            \n",
    "            # downsample majority\n",
    "            flows_ddos_reduced = resample(flows_ddos_full,\n",
    "                                             replace = False, # sample without replacement\n",
    "                                             n_samples = sizeDownSample, # match minority n\n",
    "                                             random_state = 27) # reproducible results \n",
    "        else:\n",
    "            flows_ddos_reduced = flows_ddos_full\n",
    "            \n",
    "        # Once the data filtering is done, append the chunk to list\n",
    "        chunk_list_ok.append(flows_ok)\n",
    "        chunk_list_ddos.append(flows_ddos_reduced)\n",
    "        \n",
    "    # concat the list into dataframe \n",
    "    flows_ok = pd.concat(chunk_list_ok)\n",
    "    flows_ddos = pd.concat(chunk_list_ddos)\n",
    "    \n",
    "    return flows_ok, flows_ddos"
   ]
  },
  {
   "cell_type": "code",
   "execution_count": 29,
   "metadata": {},
   "outputs": [
    {
     "name": "stderr",
     "output_type": "stream",
     "text": [
      "C:\\Users\\Shailja\\AppData\\Local\\Temp\\ipykernel_14252\\4079169266.py:2: DtypeWarning: Columns (85) have mixed types. Specify dtype option on import or set low_memory=False.\n",
      "  samples = pd.read_csv('export_dataframe.csv', sep=',')\n"
     ]
    },
    {
     "name": "stdout",
     "output_type": "stream",
     "text": [
      "Training data processed\n"
     ]
    }
   ],
   "source": [
    "# training data\n",
    "samples = pd.read_csv('export_dataframe.csv', sep=',')\n",
    "\n",
    "def string2numeric_hash(text):\n",
    "    import hashlib\n",
    "    return int(hashlib.md5(text).hexdigest()[:8], 16)\n",
    "\n",
    "# Flows Packet/s e Bytes/s - Replace infinity by 0\n",
    "samples = samples.replace('Infinity','0')\n",
    "samples = samples.replace(np.inf,0)\n",
    "#samples = samples.replace('nan','0')\n",
    "samples[' Flow Packets/s'] = pd.to_numeric(samples[' Flow Packets/s'])\n",
    "\n",
    "samples['Flow Bytes/s'] = samples['Flow Bytes/s'].fillna(0)\n",
    "samples['Flow Bytes/s'] = pd.to_numeric(samples['Flow Bytes/s'])\n",
    "\n",
    "\n",
    "#Label\n",
    "samples[' Label'] = samples[' Label'].replace('BENIGN',0)\n",
    "samples[' Label'] = samples[' Label'].replace('DrDoS_DNS',1)\n",
    "samples[' Label'] = samples[' Label'].replace('DrDoS_LDAP',1)\n",
    "samples[' Label'] = samples[' Label'].replace('DrDoS_MSSQL',1)\n",
    "samples[' Label'] = samples[' Label'].replace('DrDoS_NTP',1)\n",
    "samples[' Label'] = samples[' Label'].replace('DrDoS_NetBIOS',1)\n",
    "samples[' Label'] = samples[' Label'].replace('DrDoS_SNMP',1)\n",
    "samples[' Label'] = samples[' Label'].replace('DrDoS_SSDP',1)\n",
    "samples[' Label'] = samples[' Label'].replace('DrDoS_UDP',1)\n",
    "samples[' Label'] = samples[' Label'].replace('Syn',1)\n",
    "samples[' Label'] = samples[' Label'].replace('TFTP',1)\n",
    "samples[' Label'] = samples[' Label'].replace('UDP-lag',1)\n",
    "samples[' Label'] = samples[' Label'].replace('WebDDoS',1)\n",
    "\n",
    "#Timestamp - Drop day, then convert hour, minute and seconds to hashing \n",
    "colunaTime = pd.DataFrame(samples[' Timestamp'].str.split(pat=' ',n=1).tolist(), columns = ['dia','horas'])\n",
    "colunaTime = pd.DataFrame(colunaTime['horas'].str.split(pat='.',n=1).tolist(),columns = ['horas','milisec'])\n",
    "stringHoras = pd.DataFrame(colunaTime['horas'].str.encode('utf-8'))\n",
    "samples[' Timestamp'] = pd.DataFrame(stringHoras['horas'].apply(string2numeric_hash))#colunaTime['horas']\n",
    "del colunaTime,stringHoras\n",
    "\n",
    "#exclude from the dataset nine features that exclusively contain '0' values=> Bwd PSH Flags, Fwd URG Flags, Bwd URG Flags, Fwd Bytes/Bulk Avg, \n",
    "# Fwd Packet/Bulk Avg, Fwd Bulk Rate Avg, Bwd Bytes/Bulk Avg, Bwd Packet/Bulk Avg, Bwd Bulk Rate Avg\n",
    "'''\n",
    "del samples[' Bwd PSH Flags']\n",
    "del samples[' Fwd URG Flags']\n",
    "del samples[' Bwd URG Flags']\n",
    "del samples['Fwd Avg Bytes/Bulk']\n",
    "del samples[' Fwd Avg Packets/Bulk']\n",
    "del samples[' Fwd Avg Bulk Rate']\n",
    "del samples[' Bwd Avg Bytes/Bulk']\n",
    "del samples[' Bwd Avg Packets/Bulk']\n",
    "del samples['Bwd Avg Bulk Rate']\n",
    "'''\n",
    "# flowID - IP source - IP dest - Simillar HTTP -> Drop (individual flow analysis)\n",
    "del samples[' Source IP']\n",
    "del samples[' Destination IP']\n",
    "del samples['Flow ID']\n",
    "del samples['SimillarHTTP']\n",
    "del samples['Unnamed: 0']\n",
    "\n",
    "samples.to_csv(r'export_dataframe_proc.csv', index = None, header=True) \n",
    "print('Training data processed')\n"
   ]
  },
  {
   "cell_type": "code",
   "execution_count": 30,
   "metadata": {},
   "outputs": [
    {
     "name": "stderr",
     "output_type": "stream",
     "text": [
      "C:\\Users\\Shailja\\AppData\\Local\\Temp\\ipykernel_14252\\1697908362.py:2: DtypeWarning: Columns (85) have mixed types. Specify dtype option on import or set low_memory=False.\n",
      "  tests = pd.read_csv('export_tests.csv', sep=',')\n"
     ]
    },
    {
     "name": "stdout",
     "output_type": "stream",
     "text": [
      "Test data processed\n"
     ]
    }
   ],
   "source": [
    "# test data\n",
    "tests = pd.read_csv('export_tests.csv', sep=',')\n",
    "\n",
    "def string2numeric_hash(text):\n",
    "    import hashlib\n",
    "    return int(hashlib.md5(text).hexdigest()[:8], 16)\n",
    "\n",
    "# Flows Packet/s e Bytes/s - Change infinity by 0\n",
    "tests = tests.replace('Infinity','0')\n",
    "tests = tests.replace(np.inf,0)\n",
    "#amostras = amostras.replace('nan','0')\n",
    "tests[' Flow Packets/s'] = pd.to_numeric(tests[' Flow Packets/s'])\n",
    "\n",
    "tests['Flow Bytes/s'] = tests['Flow Bytes/s'].fillna(0)\n",
    "tests['Flow Bytes/s'] = pd.to_numeric(tests['Flow Bytes/s'])\n",
    "\n",
    "#Label\n",
    "tests[' Label'] = tests[' Label'].replace('BENIGN',0)\n",
    "tests[' Label'] = tests[' Label'].replace('LDAP',1)\n",
    "tests[' Label'] = tests[' Label'].replace('NetBIOS',1)\n",
    "tests[' Label'] = tests[' Label'].replace('MSSQL',1)\n",
    "tests[' Label'] = tests[' Label'].replace('Portmap',1)\n",
    "tests[' Label'] = tests[' Label'].replace('Syn',1)\n",
    "#tests[' Label'] = tests[' Label'].replace('DrDoS_SNMP',1)\n",
    "#tests[' Label'] = tests[' Label'].replace('DrDoS_SSDP',1)\n",
    "\n",
    "#Timestamp - Drop day, then convert hour, minute and seconds to hashing \n",
    "colunaTime = pd.DataFrame(tests[' Timestamp'].str.split(pat=' ',n=1).tolist(), columns = ['dia','horas'])\n",
    "colunaTime = pd.DataFrame(colunaTime['horas'].str.split(pat='.',n=1).tolist(),columns = ['horas','milisec'])\n",
    "stringHoras = pd.DataFrame(colunaTime['horas'].str.encode('utf-8'))\n",
    "tests[' Timestamp'] = pd.DataFrame(stringHoras['horas'].apply(string2numeric_hash))#colunaTime['horas']\n",
    "del colunaTime,stringHoras\n",
    "\n",
    "# flowID - IP source - IP dest - Simillar HTTP -> Drop (individual flow analysis)\n",
    "del tests[' Source IP']\n",
    "del tests[' Destination IP']\n",
    "del tests['Flow ID']\n",
    "del tests['SimillarHTTP']\n",
    "del tests['Unnamed: 0']\n",
    "\n",
    "tests.to_csv(r'export_tests_proc.csv', index = None, header=True) \n",
    "print('Test data processed')"
   ]
  },
  {
   "cell_type": "code",
   "execution_count": 31,
   "metadata": {},
   "outputs": [],
   "source": [
    "# Import required libraries\n",
    "from keras.models import Sequential\n",
    "from keras.layers import Dense,GRU,Embedding,Dropout,Flatten,Conv1D,MaxPooling1D,LSTM,BatchNormalization,LayerNormalization\n",
    "from sklearn.svm import SVC\n",
    "from sklearn.linear_model import LogisticRegression, SGDClassifier\n",
    "from sklearn.neighbors import KNeighborsClassifier"
   ]
  },
  {
   "cell_type": "code",
   "execution_count": 32,
   "metadata": {},
   "outputs": [],
   "source": [
    "#input_size\n",
    "# -> CIC-DDoS2019 82\n",
    "\n",
    "def GRU_model(input_size):\n",
    "   \n",
    "    # Initialize the constructor\n",
    "    model = Sequential()\n",
    "    \n",
    "    model.add(GRU(32, input_shape=(input_size,1), return_sequences=False)) #\n",
    "    model.add(Dropout(0.5))    \n",
    "    model.add(Dense(10, activation='relu'))\n",
    "    model.add(Dense(1, activation='sigmoid'))\n",
    "    \n",
    "    model.build()\n",
    "    print(model.summary())\n",
    "    \n",
    "    return model"
   ]
  },
  {
   "cell_type": "code",
   "execution_count": 33,
   "metadata": {},
   "outputs": [],
   "source": [
    "def CNN_model(input_size):\n",
    "   \n",
    "    # Initialize the constructor\n",
    "    model = Sequential()\n",
    "    \n",
    "    model.add(Conv1D(filters=64, kernel_size=8, activation='relu', input_shape=(input_size,1)))\n",
    "    model.add(MaxPooling1D(2))\n",
    "    model.add(Conv1D(filters=32, kernel_size=16, activation='relu'))\n",
    "    model.add(MaxPooling1D(2))\n",
    "    model.add(Conv1D(filters=16, kernel_size=3, activation='relu'))\n",
    "    model.add(MaxPooling1D(2))\n",
    "    \n",
    "    model.add(Dropout(0.5))\n",
    "\n",
    "    model.add(Flatten())\n",
    "    model.add(Dense(10, activation='relu'))\n",
    "    model.add(Dense(1, activation='sigmoid'))\n",
    "    \n",
    "    print(model.summary())\n",
    "    \n",
    "    return model"
   ]
  },
  {
   "cell_type": "code",
   "execution_count": 34,
   "metadata": {},
   "outputs": [],
   "source": [
    "def LSTM_model(input_size):\n",
    "   \n",
    "    # Initialize the constructor\n",
    "    model = Sequential()\n",
    "    \n",
    "    model.add(LSTM(32,input_shape=(input_size,1), return_sequences=False))\n",
    "    model.add(Dropout(0.5))    \n",
    "    model.add(Dense(10, activation='relu'))\n",
    "    model.add(Dense(1, activation='sigmoid'))\n",
    "    \n",
    "    print(model.summary())\n",
    "    \n",
    "    return model"
   ]
  },
  {
   "cell_type": "code",
   "execution_count": 35,
   "metadata": {},
   "outputs": [],
   "source": [
    "def DNN_model(input_size):\n",
    "   \n",
    "    # Initialize the constructor\n",
    "    model = Sequential()\n",
    "    \n",
    "    model.add(Dense(2, activation='relu', input_shape=(input_size,)))\n",
    "    model.add(Dense(100, activation='relu'))   \n",
    "    model.add(Dense(40, activation='relu'))\n",
    "    model.add(Dense(10, activation='relu'))\n",
    "    model.add(Dropout(0.5))\n",
    "    model.add(Dense(1, activation='sigmoid'))\n",
    "    \n",
    "    print(model.summary())\n",
    "    \n",
    "    return model"
   ]
  },
  {
   "cell_type": "code",
   "execution_count": 36,
   "metadata": {},
   "outputs": [],
   "source": [
    "def CNN_LSTM_model(input_size):\n",
    "   \n",
    "    # Initialize the constructor\n",
    "    model = Sequential()\n",
    "\n",
    "    # Input dataset\n",
    "    model.add(BatchNormalization(input_shape=(input_size,1)))\n",
    "\n",
    "    # CNN Layers\n",
    "    model.add(Conv1D(filters=64, kernel_size=8, activation='relu', input_shape=(input_size,1)))\n",
    "    model.add(Conv1D(filters=128, kernel_size=3, activation='relu'))\n",
    "    model.add(MaxPooling1D(pool_size=2))\n",
    "    model.add(Conv1D(filters=256, kernel_size=3, activation='relu'))\n",
    "    model.add(MaxPooling1D(pool_size=2))\n",
    "    # Layer Normalization\n",
    "    model.add(LayerNormalization())\n",
    "\n",
    "    # Dropout Layers\n",
    "    model.add(Dropout(0.5))  # You can adjust the dropout rate as needed\n",
    "\n",
    "    # LSTM Layers\n",
    "    model.add(LSTM(80, activation='relu', return_sequences=True))\n",
    "    model.add(LSTM(64, activation='relu', return_sequences=True))\n",
    "    model.add(Dropout(0.2))\n",
    "\n",
    "    # Dense Layer\n",
    "    model.add(Dense(64, activation='relu'))\n",
    "    model.add(Dropout(0.2))\n",
    "\n",
    "    # Output Layer\n",
    "    model.add(Dense(1, activation='sigmoid'))\n",
    "    \n",
    "    print(model.summary())\n",
    "    \n",
    "    return model"
   ]
  },
  {
   "cell_type": "code",
   "execution_count": 37,
   "metadata": {},
   "outputs": [],
   "source": [
    "def train_test(samples):\n",
    "    # Import `train_test_split` from `sklearn.model_selection`\n",
    "    from sklearn.model_selection import train_test_split\n",
    "    import numpy as np\n",
    "    \n",
    "    # Specify the data \n",
    "    X=samples.iloc[:,0:(samples.shape[1]-1)]\n",
    "    \n",
    "    # Specify the target labels and flatten the array\n",
    "    #y= np.ravel(amostras.type)\n",
    "    y= samples.iloc[:,-1]\n",
    "    \n",
    "    # Split the data up in train and test sets\n",
    "    X_train, X_test, y_train, y_test = train_test_split(X, y, test_size=0.33, random_state=42)\n",
    "    \n",
    "    return X_train, X_test, y_train, y_test\n"
   ]
  },
  {
   "cell_type": "code",
   "execution_count": 38,
   "metadata": {},
   "outputs": [],
   "source": [
    "# normalize input data\n",
    "\n",
    "def normalize_data(X_train,X_test):\n",
    "    # Import `StandardScaler` from `sklearn.preprocessing`\n",
    "    from sklearn.preprocessing import StandardScaler,MinMaxScaler\n",
    "    \n",
    "    # Define the scaler \n",
    "    #scaler = StandardScaler().fit(X_train)\n",
    "    scaler = MinMaxScaler(feature_range=(-1, 1)).fit(X_train)\n",
    "    \n",
    "    # Scale the train set\n",
    "    X_train = scaler.transform(X_train)\n",
    "    \n",
    "    # Scale the test set\n",
    "    X_test = scaler.transform(X_test)\n",
    "    \n",
    "    return X_train, X_test\n"
   ]
  },
  {
   "cell_type": "code",
   "execution_count": 39,
   "metadata": {},
   "outputs": [],
   "source": [
    "# Reshape data input\n",
    "\n",
    "def format_3d(df):\n",
    "    \n",
    "    X = np.array(df)\n",
    "    return np.reshape(X, (X.shape[0], X.shape[1], 1))\n",
    "\n",
    "def format_2d(df):\n",
    "    \n",
    "    X = np.array(df)\n",
    "    return np.reshape(X, (X.shape[0], X.shape[1]))"
   ]
  },
  {
   "cell_type": "code",
   "execution_count": 40,
   "metadata": {},
   "outputs": [],
   "source": [
    "# compile and train learning model\n",
    "\n",
    "def compile_train(model,X_train,y_train,deep=True):\n",
    "    \n",
    "    if(deep==True):\n",
    "        import matplotlib.pyplot as plt\n",
    "\n",
    "\n",
    "        model.compile(loss='binary_crossentropy',\n",
    "                      optimizer='adam',\n",
    "                      metrics=['accuracy'])\n",
    "        \n",
    "        history = model.fit(X_train, y_train,epochs=1, batch_size=256, verbose=1)\n",
    "        #model.fit(X_train, y_train,epochs=3)\n",
    "\n",
    "#         # summarize history for accuracy\n",
    "#         plt.plot(history.history['acc'])\n",
    "#         plt.title('model accuracy')\n",
    "#         plt.ylabel('accuracy')\n",
    "#         plt.xlabel('epoch')\n",
    "#         plt.legend(['train'], loc='upper left')\n",
    "#         plt.show()\n",
    "#         # summarize history for loss\n",
    "#         plt.plot(history.history['loss'])\n",
    "#         plt.title('model loss')\n",
    "#         plt.ylabel('loss')\n",
    "#         plt.xlabel('epoch')\n",
    "#         plt.legend(['train'], loc='upper left')\n",
    "#         plt.show()\n",
    "\n",
    "        print(model.metrics_names)\n",
    "    \n",
    "    else:\n",
    "        model.fit(X_train, y_train) #SVM, LR, GD\n",
    "    \n",
    "    print('Model Compiled and Trained')\n",
    "    return model"
   ]
  },
  {
   "cell_type": "code",
   "execution_count": 41,
   "metadata": {},
   "outputs": [],
   "source": [
    "# Testing performance outcomes of the methods\n",
    "\n",
    "def testes(model,X_test,y_test,y_pred, deep=True):\n",
    "    if(deep==True): \n",
    "        score = model.evaluate(X_test, y_test,verbose=1)\n",
    "\n",
    "        print(score)\n",
    "    \n",
    "    # Alguns testes adicionais\n",
    "    #y_test = formatar2d(y_test)\n",
    "    #y_pred = formatar2d(y_pred)\n",
    "    \n",
    "    \n",
    "    # Import the modules from `sklearn.metrics`\n",
    "    from sklearn.metrics import confusion_matrix, precision_score, recall_score, f1_score, cohen_kappa_score, accuracy_score\n",
    "    \n",
    "    # Accuracy \n",
    "    acc = accuracy_score(y_test, y_pred)\n",
    "    print('\\nAccuracy')\n",
    "    print(acc)\n",
    "    \n",
    "    # Precision \n",
    "    prec = precision_score(y_test, y_pred)#,average='macro')\n",
    "    print('\\nPrecision')\n",
    "    print(prec)\n",
    "    \n",
    "    # Recall\n",
    "    rec = recall_score(y_test, y_pred) #,average='macro')\n",
    "    print('\\nRecall')\n",
    "    print(rec)\n",
    "    \n",
    "    # F1 score\n",
    "    f1 = f1_score(y_test,y_pred) #,average='macro')\n",
    "    print('\\nF1 Score')\n",
    "    print(f1)\n",
    "    \n",
    "    #average\n",
    "    avrg = (acc+prec+rec+f1)/4\n",
    "    print('\\nAverage (acc, prec, rec, f1)')\n",
    "    print(avrg)\n",
    "    \n",
    "    return acc, prec, rec, f1, avrg"
   ]
  },
  {
   "cell_type": "code",
   "execution_count": 42,
   "metadata": {},
   "outputs": [],
   "source": [
    "def test_normal_atk(y_test,y_pred):\n",
    "    df = pd.DataFrame()\n",
    "    df['y_test'] = y_test\n",
    "    df['y_pred'] = y_pred\n",
    "    \n",
    "    normal = len(df.query('y_test == 0'))\n",
    "    atk = len(y_test)-normal\n",
    "    \n",
    "    wrong = df.query('y_test != y_pred')\n",
    "    \n",
    "    normal_detect_rate = (normal - wrong.groupby('y_test').count().iloc[0][0]) / normal\n",
    "    atk_detect_rate = (atk - wrong.groupby('y_test').count().iloc[1][0]) / atk\n",
    "    \n",
    "    #print(normal_detect_rate,atk_detect_rate)\n",
    "    \n",
    "    return normal_detect_rate, atk_detect_rate\n",
    "    "
   ]
  },
  {
   "cell_type": "code",
   "execution_count": 43,
   "metadata": {},
   "outputs": [],
   "source": [
    "# Save model and weights\n",
    "\n",
    "def save_model(model,name):\n",
    "    from keras.models import model_from_json\n",
    "    \n",
    "    arq_json = 'Models/' + name + '.json'\n",
    "    model_json = model.to_json()\n",
    "    with open(arq_json,\"w\") as json_file:\n",
    "        json_file.write(model_json)\n",
    "    \n",
    "    arq_h5 = 'Models/' + name + '.h5'\n",
    "    model.save_weights(arq_h5)\n",
    "    print('Model Saved')\n",
    "    \n",
    "def load_model(name):\n",
    "    from keras.models import model_from_json\n",
    "    \n",
    "    arq_json = 'Models/' + name + '.json'\n",
    "    json_file = open(arq_json,'r')\n",
    "    loaded_model_json = json_file.read()\n",
    "    json_file.close()\n",
    "    loaded_model = model_from_json(loaded_model_json)\n",
    "    \n",
    "    arq_h5 = 'Models/' + name + '.h5'\n",
    "    loaded_model.load_weights(arq_h5)\n",
    "    \n",
    "    print('Model loaded')\n",
    "    \n",
    "    return loaded_model\n",
    "\n",
    "def save_Sklearn(model,nome):\n",
    "    import pickle\n",
    "    arquivo = 'Models/'+ nome + '.pkl'\n",
    "    with open(arquivo,'wb') as file:\n",
    "        pickle.dump(model,file)\n",
    "    print('Model sklearn saved')\n",
    "\n",
    "def load_Sklearn(nome):\n",
    "    import pickle\n",
    "    arquivo = 'Models/'+ nome + '.pkl'\n",
    "    with open(arquivo,'rb') as file:\n",
    "        model = pickle.load(file)\n",
    "    print('Model sklearn loaded')\n",
    "    return model"
   ]
  },
  {
   "cell_type": "code",
   "execution_count": 44,
   "metadata": {},
   "outputs": [],
   "source": [
    "# UPSAMPLE OF NORMAL FLOWS\n",
    "import pandas as pd\n",
    "import numpy as np\n",
    "from sklearn.utils import resample\n",
    "from sklearn import preprocessing\n",
    "    \n",
    "samples = pd.read_csv('export_dataframe_proc.csv', sep=',')\n",
    "\n",
    "X_train, X_test, y_train, y_test = train_test(samples)\n",
    "\n",
    "X = pd.concat([X_train, y_train], axis=1)\n",
    "\n",
    "# separate minority and majority classes\n",
    "is_benign = X[' Label']==0 \n",
    "\n",
    "normal = X[is_benign]\n",
    "ddos = X[~is_benign]\n",
    "\n",
    "# upsample minority\n",
    "normal_upsampled = resample(normal,\n",
    "                          replace=True, # sample with replacement\n",
    "                          n_samples=len(ddos), # match number in majority class\n",
    "                          random_state=27) # reproducible results\n",
    "\n",
    "# combine majority and upsampled minority\n",
    "upsampled = pd.concat([normal_upsampled, ddos])\n",
    "\n",
    "# Specify the data \n",
    "X_train=upsampled.iloc[:,0:(upsampled.shape[1]-1)]    #DDoS\n",
    "y_train= upsampled.iloc[:,-1]  #DDoS\n",
    "\n",
    "input_size = (X_train.shape[1], 1)\n",
    "\n",
    "del X, normal_upsampled, ddos, upsampled, normal #, l1, l2 "
   ]
  },
  {
   "cell_type": "code",
   "execution_count": 45,
   "metadata": {},
   "outputs": [
    {
     "name": "stdout",
     "output_type": "stream",
     "text": [
      "(408099,)\n",
      "(408099, 82)\n",
      "(368604, 82)\n",
      "(368604,)\n",
      "82\n"
     ]
    },
    {
     "name": "stderr",
     "output_type": "stream",
     "text": [
      "c:\\Users\\Shailja\\AppData\\Local\\Programs\\Python\\Python310\\lib\\site-packages\\sklearn\\base.py:450: UserWarning: X does not have valid feature names, but MinMaxScaler was fitted with feature names\n",
      "  warnings.warn(\n"
     ]
    }
   ],
   "source": [
    "tests = pd.read_csv('export_tests_proc.csv', sep=',')\n",
    "\n",
    "X_test = np.concatenate((X_test,(tests.iloc[:,0:(tests.shape[1]-1)]).to_numpy()))\n",
    "y_test = np.concatenate((y_test,tests.iloc[:,-1]))\n",
    "\n",
    "#del X_test,y_test                            \n",
    "#X_test = tests.iloc[:,0:(tests.shape[1]-1)]                        \n",
    "#y_test = tests.iloc[:,-1]\n",
    "\n",
    "print((y_test.shape))\n",
    "print((X_test.shape))\n",
    "print((X_train.shape))\n",
    "print((y_train.shape))\n",
    "print(X_train.shape[1])\n",
    "\n",
    "X_train, X_test = normalize_data(X_train,X_test)\n"
   ]
  },
  {
   "cell_type": "code",
   "execution_count": 46,
   "metadata": {},
   "outputs": [
    {
     "name": "stdout",
     "output_type": "stream",
     "text": [
      "Model: \"sequential\"\n",
      "_________________________________________________________________\n",
      " Layer (type)                Output Shape              Param #   \n",
      "=================================================================\n",
      " gru (GRU)                   (None, 32)                3360      \n",
      "                                                                 \n",
      " dropout (Dropout)           (None, 32)                0         \n",
      "                                                                 \n",
      " dense (Dense)               (None, 10)                330       \n",
      "                                                                 \n",
      " dense_1 (Dense)             (None, 1)                 11        \n",
      "                                                                 \n",
      "=================================================================\n",
      "Total params: 3,701\n",
      "Trainable params: 3,701\n",
      "Non-trainable params: 0\n",
      "_________________________________________________________________\n",
      "None\n",
      "Model: \"sequential_1\"\n",
      "_________________________________________________________________\n",
      " Layer (type)                Output Shape              Param #   \n",
      "=================================================================\n",
      " conv1d (Conv1D)             (None, 75, 64)            576       \n",
      "                                                                 \n",
      " max_pooling1d (MaxPooling1D  (None, 37, 64)           0         \n",
      " )                                                               \n",
      "                                                                 \n",
      " conv1d_1 (Conv1D)           (None, 22, 32)            32800     \n",
      "                                                                 \n",
      " max_pooling1d_1 (MaxPooling  (None, 11, 32)           0         \n",
      " 1D)                                                             \n",
      "                                                                 \n",
      " conv1d_2 (Conv1D)           (None, 9, 16)             1552      \n",
      "                                                                 \n",
      " max_pooling1d_2 (MaxPooling  (None, 4, 16)            0         \n",
      " 1D)                                                             \n",
      "                                                                 \n",
      " dropout_1 (Dropout)         (None, 4, 16)             0         \n",
      "                                                                 \n",
      " flatten (Flatten)           (None, 64)                0         \n",
      "                                                                 \n",
      " dense_2 (Dense)             (None, 10)                650       \n",
      "                                                                 \n",
      " dense_3 (Dense)             (None, 1)                 11        \n",
      "                                                                 \n",
      "=================================================================\n",
      "Total params: 35,589\n",
      "Trainable params: 35,589\n",
      "Non-trainable params: 0\n",
      "_________________________________________________________________\n",
      "None\n",
      "Model: \"sequential_2\"\n",
      "_________________________________________________________________\n",
      " Layer (type)                Output Shape              Param #   \n",
      "=================================================================\n",
      " lstm (LSTM)                 (None, 32)                4352      \n",
      "                                                                 \n",
      " dropout_2 (Dropout)         (None, 32)                0         \n",
      "                                                                 \n",
      " dense_4 (Dense)             (None, 10)                330       \n",
      "                                                                 \n",
      " dense_5 (Dense)             (None, 1)                 11        \n",
      "                                                                 \n",
      "=================================================================\n",
      "Total params: 4,693\n",
      "Trainable params: 4,693\n",
      "Non-trainable params: 0\n",
      "_________________________________________________________________\n",
      "None\n",
      "Model: \"sequential_3\"\n",
      "_________________________________________________________________\n",
      " Layer (type)                Output Shape              Param #   \n",
      "=================================================================\n",
      " dense_6 (Dense)             (None, 2)                 166       \n",
      "                                                                 \n",
      " dense_7 (Dense)             (None, 100)               300       \n",
      "                                                                 \n",
      " dense_8 (Dense)             (None, 40)                4040      \n",
      "                                                                 \n",
      " dense_9 (Dense)             (None, 10)                410       \n",
      "                                                                 \n",
      " dropout_3 (Dropout)         (None, 10)                0         \n",
      "                                                                 \n",
      " dense_10 (Dense)            (None, 1)                 11        \n",
      "                                                                 \n",
      "=================================================================\n",
      "Total params: 4,927\n",
      "Trainable params: 4,927\n",
      "Non-trainable params: 0\n",
      "_________________________________________________________________\n",
      "None\n",
      "Model: \"sequential_4\"\n",
      "_________________________________________________________________\n",
      " Layer (type)                Output Shape              Param #   \n",
      "=================================================================\n",
      " batch_normalization (BatchN  (None, 82, 1)            4         \n",
      " ormalization)                                                   \n",
      "                                                                 \n",
      " conv1d_3 (Conv1D)           (None, 75, 64)            576       \n",
      "                                                                 \n",
      " conv1d_4 (Conv1D)           (None, 73, 128)           24704     \n",
      "                                                                 \n",
      " max_pooling1d_3 (MaxPooling  (None, 36, 128)          0         \n",
      " 1D)                                                             \n",
      "                                                                 \n",
      " conv1d_5 (Conv1D)           (None, 34, 256)           98560     \n",
      "                                                                 \n",
      " max_pooling1d_4 (MaxPooling  (None, 17, 256)          0         \n",
      " 1D)                                                             \n",
      "                                                                 \n",
      " layer_normalization (LayerN  (None, 17, 256)          512       \n",
      " ormalization)                                                   \n",
      "                                                                 \n",
      " dropout_4 (Dropout)         (None, 17, 256)           0         \n",
      "                                                                 \n",
      " lstm_1 (LSTM)               (None, 17, 80)            107840    \n",
      "                                                                 \n",
      " lstm_2 (LSTM)               (None, 17, 64)            37120     \n",
      "                                                                 \n",
      " dropout_5 (Dropout)         (None, 17, 64)            0         \n",
      "                                                                 \n",
      " dense_11 (Dense)            (None, 17, 64)            4160      \n",
      "                                                                 \n",
      " dropout_6 (Dropout)         (None, 17, 64)            0         \n",
      "                                                                 \n",
      " dense_12 (Dense)            (None, 17, 1)             65        \n",
      "                                                                 \n",
      "=================================================================\n",
      "Total params: 273,541\n",
      "Trainable params: 273,539\n",
      "Non-trainable params: 2\n",
      "_________________________________________________________________\n",
      "None\n",
      "1440/1440 [==============================] - 135s 91ms/step - loss: 0.2068 - accuracy: 0.9335\n",
      "['loss', 'accuracy']\n",
      "Model Compiled and Trained\n",
      "1440/1440 [==============================] - 100s 68ms/step - loss: 0.0958 - accuracy: 0.9685\n",
      "['loss', 'accuracy']\n",
      "Model Compiled and Trained\n",
      "1440/1440 [==============================] - 99s 67ms/step - loss: 0.1319 - accuracy: 0.9555\n",
      "['loss', 'accuracy']\n",
      "Model Compiled and Trained\n",
      "1440/1440 [==============================] - 7s 4ms/step - loss: 0.1210 - accuracy: 0.9699\n",
      "['loss', 'accuracy']\n",
      "Model Compiled and Trained\n",
      "1440/1440 [==============================] - 274s 188ms/step - loss: 0.0596 - accuracy: 0.9817\n",
      "['loss', 'accuracy']\n",
      "Model Compiled and Trained\n"
     ]
    }
   ],
   "source": [
    "\n",
    "## Comment next 2 blocks if loading pre-trained models - praveen\n",
    "## Execute them if training new models\n",
    "\n",
    "model_gru = GRU_model(X_train.shape[1]) \n",
    "model_cnn = CNN_model(X_train.shape[1])\n",
    "model_lstm = LSTM_model(X_train.shape[1])\n",
    "model_dnn = DNN_model(X_train.shape[1])\n",
    "model_cnn_lstm = CNN_LSTM_model(X_train.shape[1])\n",
    " \n",
    "model_gru = compile_train(model_gru,format_3d(X_train),y_train)  \n",
    "model_cnn = compile_train(model_cnn,format_3d(X_train),y_train)\n",
    "model_lstm = compile_train(model_lstm,format_3d(X_train),y_train)\n",
    "model_dnn = compile_train(model_dnn,X_train,y_train)\n",
    "model_cnn_lstm = compile_train(model_cnn_lstm,format_3d(X_train),y_train)\n",
    "\n",
    "## Comment next 2 blocks if training new models - praveen\n",
    "## Execute them if loading pre-trained models\n",
    "\n",
    "#model_gru = load_model('GRU20-32-b256') #when loading previously saved trained model and weights\n",
    "#model_cnn = load_model('CNN5-3cam-b2560')\n",
    "#model_lstm = load_model('LSTM5-32-b256')\n",
    "#model_dnn = load_model('DNN5-2560')\n",
    "\n",
    "#model_gru.compile(loss='binary_crossentropy', optimizer='adam', metrics=['accuracy']) \n",
    "#model_cnn.compile(loss='binary_crossentropy', optimizer='adam', metrics=['accuracy'])\n",
    "#model_lstm.compile(loss='binary_crossentropy', optimizer='adam', metrics=['accuracy'])\n",
    "#model_dnn.compile(loss='binary_crossentropy', optimizer='adam', metrics=['accuracy'])\n"
   ]
  },
  {
   "cell_type": "code",
   "execution_count": null,
   "metadata": {},
   "outputs": [],
   "source": []
  },
  {
   "cell_type": "code",
   "execution_count": null,
   "metadata": {},
   "outputs": [],
   "source": []
  },
  {
   "cell_type": "code",
   "execution_count": 47,
   "metadata": {},
   "outputs": [],
   "source": [
    "results = pd.DataFrame(columns=['Method','Accuracy','Precision','Recall', 'F1_Score', 'Average','Normal_Detect_Rate','Atk_Detect_Rate'])"
   ]
  },
  {
   "cell_type": "code",
   "execution_count": 48,
   "metadata": {},
   "outputs": [
    {
     "name": "stdout",
     "output_type": "stream",
     "text": [
      "12754/12754 [==============================] - 63s 5ms/step\n",
      "12754/12754 [==============================] - 112s 9ms/step - loss: 0.0415 - accuracy: 0.9900\n",
      "[0.04151201620697975, 0.9900269508361816]\n",
      "\n",
      "Accuracy\n",
      "0.9900269297400875\n",
      "\n",
      "Precision\n",
      "0.9947057799905028\n",
      "\n",
      "Recall\n",
      "0.9932995414235603\n",
      "\n",
      "F1 Score\n",
      "0.9940021633474706\n",
      "\n",
      "Average (acc, prec, rec, f1)\n",
      "0.9930086036254053\n"
     ]
    },
    {
     "name": "stderr",
     "output_type": "stream",
     "text": [
      "C:\\Users\\Shailja\\AppData\\Local\\Temp\\ipykernel_14252\\135891391.py:9: FutureWarning: The frame.append method is deprecated and will be removed from pandas in a future version. Use pandas.concat instead.\n",
      "  results = results.append({'Method':'GRU', 'Accuracy':acc, 'Precision':prec, 'F1_Score':f1,\n"
     ]
    }
   ],
   "source": [
    "y_pred = model_gru.predict(format_3d(X_test)) \n",
    "\n",
    "y_pred = y_pred.round()\n",
    " \n",
    "acc, prec, rec, f1, avrg = testes(model_gru,format_3d(X_test),y_test,y_pred)\n",
    "\n",
    "norm, atk = test_normal_atk(y_test,y_pred)\n",
    "\n",
    "results = results.append({'Method':'GRU', 'Accuracy':acc, 'Precision':prec, 'F1_Score':f1,\n",
    "                          'Recall':rec,'Average':avrg, 'Normal_Detect_Rate':norm, 'Atk_Detect_Rate':atk}, ignore_index=True)"
   ]
  },
  {
   "cell_type": "code",
   "execution_count": 49,
   "metadata": {},
   "outputs": [
    {
     "name": "stdout",
     "output_type": "stream",
     "text": [
      "12754/12754 [==============================] - 101s 8ms/step\n",
      "(408099,)\n",
      "(408099, 82)\n",
      "(368604, 82)\n",
      "(368604,)\n",
      "(408099, 1)\n",
      "12754/12754 [==============================] - 97s 8ms/step - loss: 0.0941 - accuracy: 0.9783\n",
      "[0.09405762702226639, 0.9783141016960144]\n",
      "\n",
      "Accuracy\n",
      "0.9783140855527703\n",
      "\n",
      "Precision\n",
      "0.9975744151963188\n",
      "\n",
      "Recall\n",
      "0.976308356576316\n",
      "\n",
      "F1 Score\n",
      "0.9868268286148074\n",
      "\n",
      "Average (acc, prec, rec, f1)\n",
      "0.9847559214850532\n"
     ]
    },
    {
     "name": "stderr",
     "output_type": "stream",
     "text": [
      "C:\\Users\\Shailja\\AppData\\Local\\Temp\\ipykernel_14252\\681336145.py:15: FutureWarning: The frame.append method is deprecated and will be removed from pandas in a future version. Use pandas.concat instead.\n",
      "  results = results.append({'Method':'CNN', 'Accuracy':acc, 'Precision':prec, 'F1_Score':f1,\n"
     ]
    }
   ],
   "source": [
    "y_pred = model_cnn.predict(format_3d(X_test)) \n",
    "\n",
    "y_pred = y_pred.round()\n",
    "\n",
    "print((y_test.shape))\n",
    "print((X_test.shape))\n",
    "print((X_train.shape))\n",
    "print((y_train.shape))\n",
    "print((y_pred.shape))\n",
    " \n",
    "acc, prec, rec, f1, avrg = testes(model_cnn,format_3d(X_test),y_test,y_pred)\n",
    "\n",
    "norm, atk = test_normal_atk(y_test,y_pred)\n",
    "\n",
    "results = results.append({'Method':'CNN', 'Accuracy':acc, 'Precision':prec, 'F1_Score':f1,\n",
    "                          'Recall':rec,'Average':avrg, 'Normal_Detect_Rate':norm, 'Atk_Detect_Rate':atk}, ignore_index=True)"
   ]
  },
  {
   "cell_type": "code",
   "execution_count": 50,
   "metadata": {},
   "outputs": [
    {
     "name": "stdout",
     "output_type": "stream",
     "text": [
      "12754/12754 [==============================] - 171s 13ms/step\n",
      "12754/12754 [==============================] - 153s 12ms/step - loss: 0.0732 - accuracy: 0.9853\n",
      "[0.07315877825021744, 0.9852535724639893]\n",
      "\n",
      "Accuracy\n",
      "0.9852535781758838\n",
      "\n",
      "Precision\n",
      "0.9989826177245946\n",
      "\n",
      "Recall\n",
      "0.9832768334958133\n",
      "\n",
      "F1 Score\n",
      "0.9910675057887549\n",
      "\n",
      "Average (acc, prec, rec, f1)\n",
      "0.9896451337962617\n"
     ]
    },
    {
     "name": "stderr",
     "output_type": "stream",
     "text": [
      "C:\\Users\\Shailja\\AppData\\Local\\Temp\\ipykernel_14252\\1557941305.py:9: FutureWarning: The frame.append method is deprecated and will be removed from pandas in a future version. Use pandas.concat instead.\n",
      "  results = results.append({'Method':'LSTM', 'Accuracy':acc, 'Precision':prec, 'F1_Score':f1,\n"
     ]
    }
   ],
   "source": [
    "y_pred = model_lstm.predict(format_3d(X_test)) \n",
    "\n",
    "y_pred = y_pred.round()\n",
    " \n",
    "acc, prec, rec, f1, avrg = testes(model_lstm,format_3d(X_test),y_test,y_pred)\n",
    "\n",
    "norm, atk = test_normal_atk(y_test,y_pred)\n",
    "\n",
    "results = results.append({'Method':'LSTM', 'Accuracy':acc, 'Precision':prec, 'F1_Score':f1,\n",
    "                          'Recall':rec,'Average':avrg, 'Normal_Detect_Rate':norm, 'Atk_Detect_Rate':atk}, ignore_index=True)"
   ]
  },
  {
   "cell_type": "code",
   "execution_count": null,
   "metadata": {},
   "outputs": [],
   "source": [
    "y_pred = model_cnn_lstm.predict(format_3d(X_test)) \n",
    "\n",
    "y_pred = model.predict(X_test_reshaped)\n",
    "y_pred_binary = y_pred.squeeze().round()\n",
    "y_pred_binary = y_pred_binary.flatten()\n",
    "\n",
    "print((y_test.shape))\n",
    "print((X_test.shape))\n",
    "print((X_train.shape))\n",
    "print((y_train.shape))\n",
    "print((y_pred_binary.shape))\n",
    " \n",
    "acc, prec, rec, f1, avrg = testes(model_cnn_lstm,format_3d(X_test),y_test,y_pred_binary)\n",
    "\n",
    "norm, atk = test_normal_atk(y_test,y_pred_binary)\n",
    "\n",
    "results = results.append({'Method':'CNN+LSTM', 'Accuracy':acc, 'Precision':prec, 'F1_Score':f1,\n",
    "                          'Recall':rec,'Average':avrg, 'Normal_Detect_Rate':norm, 'Atk_Detect_Rate':atk}, ignore_index=True)"
   ]
  },
  {
   "cell_type": "code",
   "execution_count": 51,
   "metadata": {},
   "outputs": [
    {
     "name": "stdout",
     "output_type": "stream",
     "text": [
      "12754/12754 [==============================] - 32s 2ms/step\n",
      "12754/12754 [==============================] - 55s 4ms/step - loss: 0.0211 - accuracy: 0.9949\n",
      "[0.021104279905557632, 0.9949301481246948]\n",
      "\n",
      "Accuracy\n",
      "0.9949301517523934\n",
      "\n",
      "Precision\n",
      "0.9983077677300461\n",
      "\n",
      "Recall\n",
      "0.995593896250394\n",
      "\n",
      "F1 Score\n",
      "0.996948985084091\n",
      "\n",
      "Average (acc, prec, rec, f1)\n",
      "0.9964452002042311\n"
     ]
    },
    {
     "name": "stderr",
     "output_type": "stream",
     "text": [
      "C:\\Users\\Shailja\\AppData\\Local\\Temp\\ipykernel_14252\\2640345537.py:9: FutureWarning: The frame.append method is deprecated and will be removed from pandas in a future version. Use pandas.concat instead.\n",
      "  results = results.append({'Method':'DNN', 'Accuracy':acc, 'Precision':prec, 'F1_Score':f1,\n"
     ]
    }
   ],
   "source": [
    "y_pred = model_dnn.predict(X_test) \n",
    "\n",
    "y_pred = y_pred.round()\n",
    " \n",
    "acc, prec, rec, f1, avrg = testes(model_dnn,X_test,y_test,y_pred)\n",
    "\n",
    "norm, atk = test_normal_atk(y_test,y_pred)\n",
    "\n",
    "results = results.append({'Method':'DNN', 'Accuracy':acc, 'Precision':prec, 'F1_Score':f1,\n",
    "                          'Recall':rec,'Average':avrg, 'Normal_Detect_Rate':norm, 'Atk_Detect_Rate':atk}, ignore_index=True)"
   ]
  },
  {
   "cell_type": "code",
   "execution_count": 55,
   "metadata": {},
   "outputs": [
    {
     "data": {
      "text/html": [
       "<div>\n",
       "<style scoped>\n",
       "    .dataframe tbody tr th:only-of-type {\n",
       "        vertical-align: middle;\n",
       "    }\n",
       "\n",
       "    .dataframe tbody tr th {\n",
       "        vertical-align: top;\n",
       "    }\n",
       "\n",
       "    .dataframe thead th {\n",
       "        text-align: right;\n",
       "    }\n",
       "</style>\n",
       "<table border=\"1\" class=\"dataframe\">\n",
       "  <thead>\n",
       "    <tr style=\"text-align: right;\">\n",
       "      <th></th>\n",
       "      <th>Method</th>\n",
       "      <th>Accuracy</th>\n",
       "      <th>Precision</th>\n",
       "      <th>Recall</th>\n",
       "      <th>F1_Score</th>\n",
       "      <th>Average</th>\n",
       "      <th>Normal_Detect_Rate</th>\n",
       "      <th>Atk_Detect_Rate</th>\n",
       "    </tr>\n",
       "  </thead>\n",
       "  <tbody>\n",
       "    <tr>\n",
       "      <th>0</th>\n",
       "      <td>GRU</td>\n",
       "      <td>0.990027</td>\n",
       "      <td>0.994706</td>\n",
       "      <td>0.9933</td>\n",
       "      <td>0.994002</td>\n",
       "      <td>0.993009</td>\n",
       "      <td>0.973822</td>\n",
       "      <td>0.9933</td>\n",
       "    </tr>\n",
       "    <tr>\n",
       "      <th>1</th>\n",
       "      <td>CNN</td>\n",
       "      <td>0.978314</td>\n",
       "      <td>0.997574</td>\n",
       "      <td>0.976308</td>\n",
       "      <td>0.986827</td>\n",
       "      <td>0.984756</td>\n",
       "      <td>0.988246</td>\n",
       "      <td>0.976308</td>\n",
       "    </tr>\n",
       "    <tr>\n",
       "      <th>2</th>\n",
       "      <td>LSTM</td>\n",
       "      <td>0.985254</td>\n",
       "      <td>0.998983</td>\n",
       "      <td>0.983277</td>\n",
       "      <td>0.991068</td>\n",
       "      <td>0.989645</td>\n",
       "      <td>0.995042</td>\n",
       "      <td>0.983277</td>\n",
       "    </tr>\n",
       "    <tr>\n",
       "      <th>3</th>\n",
       "      <td>DNN</td>\n",
       "      <td>0.99493</td>\n",
       "      <td>0.998308</td>\n",
       "      <td>0.995594</td>\n",
       "      <td>0.996949</td>\n",
       "      <td>0.996445</td>\n",
       "      <td>0.991644</td>\n",
       "      <td>0.995594</td>\n",
       "    </tr>\n",
       "  </tbody>\n",
       "</table>\n",
       "</div>"
      ],
      "text/plain": [
       "  Method  Accuracy Precision    Recall  F1_Score   Average Normal_Detect_Rate  \\\n",
       "0    GRU  0.990027  0.994706    0.9933  0.994002  0.993009           0.973822   \n",
       "1    CNN  0.978314  0.997574  0.976308  0.986827  0.984756           0.988246   \n",
       "2   LSTM  0.985254  0.998983  0.983277  0.991068  0.989645           0.995042   \n",
       "3    DNN   0.99493  0.998308  0.995594  0.996949  0.996445           0.991644   \n",
       "\n",
       "  Atk_Detect_Rate  \n",
       "0          0.9933  \n",
       "1        0.976308  \n",
       "2        0.983277  \n",
       "3        0.995594  "
      ]
     },
     "execution_count": 55,
     "metadata": {},
     "output_type": "execute_result"
    }
   ],
   "source": [
    "results"
   ]
  },
  {
   "cell_type": "code",
   "execution_count": 56,
   "metadata": {},
   "outputs": [],
   "source": [
    "import seaborn as sns\n",
    "import matplotlib.pyplot as plt\n",
    "sns.set()"
   ]
  },
  {
   "cell_type": "code",
   "execution_count": 61,
   "metadata": {},
   "outputs": [
    {
     "data": {
      "image/png": "[encoded data removed]",
      "text/plain": [
       "<Figure size 1296x216 with 2 Axes>"
      ]
     },
     "metadata": {
      "needs_background": "light"
     },
     "output_type": "display_data"
    }
   ],
   "source": [
    "ax = sns.catplot(data=results.iloc[:,:5].query('Method != \"LSTM\" and Method != \"CNN\" and Method != \"CNN+LSTM\"'), col='Method', col_wrap=3, kind='bar', height=3, aspect=2)\n",
    "ax.set(ylim=(0.99,1))\n",
    "ax.set_xticklabels(rotation=45)\n",
    "ax = ax\n"
   ]
  },
  {
   "cell_type": "code",
   "execution_count": 62,
   "metadata": {},
   "outputs": [
    {
     "data": {
      "image/png": "[encoded data removed]",
      "text/plain": [
       "<Figure size 1296x216 with 2 Axes>"
      ]
     },
     "metadata": {
      "needs_background": "light"
     },
     "output_type": "display_data"
    }
   ],
   "source": [
    "ax = sns.catplot(data=results.iloc[:,:5].query('Method == \"LSTM\" or Method == \"CNN\" or Method == \"CNN+LSTM\"'), col='Method', col_wrap=3, kind='bar', height=3, aspect=2)\n",
    "ax.set(ylim=(0.97,1))\n",
    "ax.set_xticklabels(rotation=45)\n",
    "ax = ax"
   ]
  },
  {
   "cell_type": "code",
   "execution_count": 63,
   "metadata": {},
   "outputs": [
    {
     "data": {
      "image/png": "[encoded data removed]",
      "text/plain": [
       "<Figure size 864x288 with 1 Axes>"
      ]
     },
     "metadata": {
      "needs_background": "light"
     },
     "output_type": "display_data"
    }
   ],
   "source": [
    "plt.figure(figsize=(12,4))\n",
    "ax = sns.barplot(data=results, y='Method', x='Average')\n",
    "ax.set(xlim=(0.98,1))\n",
    "ax.set_title('Average of the Metrics', fontsize=18, loc='left')\n",
    "#ax.set_xticklabel()\n",
    "ax = ax"
   ]
  },
  {
   "cell_type": "code",
   "execution_count": 64,
   "metadata": {},
   "outputs": [
    {
     "data": {
      "image/png": "[encoded data removed]",
      "text/plain": [
       "<Figure size 1296x432 with 4 Axes>"
      ]
     },
     "metadata": {
      "needs_background": "light"
     },
     "output_type": "display_data"
    }
   ],
   "source": [
    "ax = sns.catplot(data=results[['Method', 'Normal_Detect_Rate', 'Atk_Detect_Rate']], col='Method', col_wrap=3, kind='bar', height=3, aspect=2)\n",
    "ax.set(ylim=(0.97,1))\n",
    "ax.set_xticklabels(rotation=45)\n",
    "ax = ax\n"
   ]
  },
  {
   "cell_type": "code",
   "execution_count": null,
   "metadata": {},
   "outputs": [],
   "source": []
  },
  {
   "cell_type": "code",
   "execution_count": null,
   "metadata": {},
   "outputs": [],
   "source": []
  },
  {
   "cell_type": "code",
   "execution_count": null,
   "metadata": {},
   "outputs": [],
   "source": []
  },
  {
   "cell_type": "code",
   "execution_count": null,
   "metadata": {},
   "outputs": [],
   "source": []
  },
  {
   "cell_type": "code",
   "execution_count": null,
   "metadata": {},
   "outputs": [],
   "source": []
  }
 ],
 "metadata": {
  "kernelspec": {
   "display_name": "Python 3",
   "language": "python",
   "name": "python3"
  },
  "language_info": {
   "codemirror_mode": {
    "name": "ipython",
    "version": 3
   },
   "file_extension": ".py",
   "mimetype": "text/x-python",
   "name": "python",
   "nbconvert_exporter": "python",
   "pygments_lexer": "ipython3",
   "version": "3.10.4"
  }
 },
 "nbformat": 4,
 "nbformat_minor": 2
}
